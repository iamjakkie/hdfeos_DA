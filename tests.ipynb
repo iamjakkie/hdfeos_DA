{
 "cells": [
  {
   "cell_type": "code",
   "execution_count": 1,
   "id": "9bd24ee6-f6f5-4ac6-b440-6f68434d2c79",
   "metadata": {},
   "outputs": [],
   "source": [
    "import pandas as pd"
   ]
  },
  {
   "cell_type": "code",
   "execution_count": 4,
   "id": "728eab66-8762-4ed1-ae1a-59d498127265",
   "metadata": {},
   "outputs": [
    {
     "ename": "HDF5ExtError",
     "evalue": "HDF5 error back trace\n\n  File \"H5F.c\", line 620, in H5Fopen\n    unable to open file\n  File \"H5VLcallback.c\", line 3501, in H5VL_file_open\n    failed to iterate over available VOL connector plugins\n  File \"H5PLpath.c\", line 578, in H5PL__path_table_iterate\n    can't iterate over plugins in plugin path '(null)'\n  File \"H5PLpath.c\", line 620, in H5PL__path_table_iterate_process_path\n    can't open directory: /opt/conda/lib/hdf5/plugin\n  File \"H5VLcallback.c\", line 3351, in H5VL__file_open\n    open failed\n  File \"H5VLnative_file.c\", line 97, in H5VL__native_file_open\n    unable to open file\n  File \"H5Fint.c\", line 1990, in H5F_open\n    unable to read superblock\n  File \"H5Fsuper.c\", line 405, in H5F__super_read\n    file signature not found\n\nEnd of HDF5 error back trace\n\nUnable to open/create file './test.hdf'",
     "output_type": "error",
     "traceback": [
      "\u001b[0;31m---------------------------------------------------------------------------\u001b[0m",
      "\u001b[0;31mHDF5ExtError\u001b[0m                              Traceback (most recent call last)",
      "Input \u001b[0;32mIn [4]\u001b[0m, in \u001b[0;36m<cell line: 1>\u001b[0;34m()\u001b[0m\n\u001b[0;32m----> 1\u001b[0m test \u001b[38;5;241m=\u001b[39m \u001b[43mpd\u001b[49m\u001b[38;5;241;43m.\u001b[39;49m\u001b[43mHDFStore\u001b[49m\u001b[43m(\u001b[49m\u001b[38;5;124;43m'\u001b[39;49m\u001b[38;5;124;43m./test.hdf\u001b[39;49m\u001b[38;5;124;43m'\u001b[39;49m\u001b[43m)\u001b[49m\n",
      "File \u001b[0;32m/opt/conda/lib/python3.9/site-packages/pandas/io/pytables.py:591\u001b[0m, in \u001b[0;36mHDFStore.__init__\u001b[0;34m(self, path, mode, complevel, complib, fletcher32, **kwargs)\u001b[0m\n\u001b[1;32m    589\u001b[0m \u001b[38;5;28mself\u001b[39m\u001b[38;5;241m.\u001b[39m_fletcher32 \u001b[38;5;241m=\u001b[39m fletcher32\n\u001b[1;32m    590\u001b[0m \u001b[38;5;28mself\u001b[39m\u001b[38;5;241m.\u001b[39m_filters \u001b[38;5;241m=\u001b[39m \u001b[38;5;28;01mNone\u001b[39;00m\n\u001b[0;32m--> 591\u001b[0m \u001b[38;5;28;43mself\u001b[39;49m\u001b[38;5;241;43m.\u001b[39;49m\u001b[43mopen\u001b[49m\u001b[43m(\u001b[49m\u001b[43mmode\u001b[49m\u001b[38;5;241;43m=\u001b[39;49m\u001b[43mmode\u001b[49m\u001b[43m,\u001b[49m\u001b[43m \u001b[49m\u001b[38;5;241;43m*\u001b[39;49m\u001b[38;5;241;43m*\u001b[39;49m\u001b[43mkwargs\u001b[49m\u001b[43m)\u001b[49m\n",
      "File \u001b[0;32m/opt/conda/lib/python3.9/site-packages/pandas/io/pytables.py:740\u001b[0m, in \u001b[0;36mHDFStore.open\u001b[0;34m(self, mode, **kwargs)\u001b[0m\n\u001b[1;32m    734\u001b[0m     msg \u001b[38;5;241m=\u001b[39m (\n\u001b[1;32m    735\u001b[0m         \u001b[38;5;124m\"\u001b[39m\u001b[38;5;124mCannot open HDF5 file, which is already opened, \u001b[39m\u001b[38;5;124m\"\u001b[39m\n\u001b[1;32m    736\u001b[0m         \u001b[38;5;124m\"\u001b[39m\u001b[38;5;124meven in read-only mode.\u001b[39m\u001b[38;5;124m\"\u001b[39m\n\u001b[1;32m    737\u001b[0m     )\n\u001b[1;32m    738\u001b[0m     \u001b[38;5;28;01mraise\u001b[39;00m \u001b[38;5;167;01mValueError\u001b[39;00m(msg)\n\u001b[0;32m--> 740\u001b[0m \u001b[38;5;28mself\u001b[39m\u001b[38;5;241m.\u001b[39m_handle \u001b[38;5;241m=\u001b[39m \u001b[43mtables\u001b[49m\u001b[38;5;241;43m.\u001b[39;49m\u001b[43mopen_file\u001b[49m\u001b[43m(\u001b[49m\u001b[38;5;28;43mself\u001b[39;49m\u001b[38;5;241;43m.\u001b[39;49m\u001b[43m_path\u001b[49m\u001b[43m,\u001b[49m\u001b[43m \u001b[49m\u001b[38;5;28;43mself\u001b[39;49m\u001b[38;5;241;43m.\u001b[39;49m\u001b[43m_mode\u001b[49m\u001b[43m,\u001b[49m\u001b[43m \u001b[49m\u001b[38;5;241;43m*\u001b[39;49m\u001b[38;5;241;43m*\u001b[39;49m\u001b[43mkwargs\u001b[49m\u001b[43m)\u001b[49m\n",
      "File \u001b[0;32m/opt/conda/lib/python3.9/site-packages/tables/file.py:300\u001b[0m, in \u001b[0;36mopen_file\u001b[0;34m(filename, mode, title, root_uep, filters, **kwargs)\u001b[0m\n\u001b[1;32m    295\u001b[0m             \u001b[38;5;28;01mraise\u001b[39;00m \u001b[38;5;167;01mValueError\u001b[39;00m(\n\u001b[1;32m    296\u001b[0m                 \u001b[38;5;124m\"\u001b[39m\u001b[38;5;124mThe file \u001b[39m\u001b[38;5;124m'\u001b[39m\u001b[38;5;132;01m%s\u001b[39;00m\u001b[38;5;124m'\u001b[39m\u001b[38;5;124m is already opened.  Please \u001b[39m\u001b[38;5;124m\"\u001b[39m\n\u001b[1;32m    297\u001b[0m                 \u001b[38;5;124m\"\u001b[39m\u001b[38;5;124mclose it before reopening in write mode.\u001b[39m\u001b[38;5;124m\"\u001b[39m \u001b[38;5;241m%\u001b[39m filename)\n\u001b[1;32m    299\u001b[0m \u001b[38;5;66;03m# Finally, create the File instance, and return it\u001b[39;00m\n\u001b[0;32m--> 300\u001b[0m \u001b[38;5;28;01mreturn\u001b[39;00m \u001b[43mFile\u001b[49m\u001b[43m(\u001b[49m\u001b[43mfilename\u001b[49m\u001b[43m,\u001b[49m\u001b[43m \u001b[49m\u001b[43mmode\u001b[49m\u001b[43m,\u001b[49m\u001b[43m \u001b[49m\u001b[43mtitle\u001b[49m\u001b[43m,\u001b[49m\u001b[43m \u001b[49m\u001b[43mroot_uep\u001b[49m\u001b[43m,\u001b[49m\u001b[43m \u001b[49m\u001b[43mfilters\u001b[49m\u001b[43m,\u001b[49m\u001b[43m \u001b[49m\u001b[38;5;241;43m*\u001b[39;49m\u001b[38;5;241;43m*\u001b[39;49m\u001b[43mkwargs\u001b[49m\u001b[43m)\u001b[49m\n",
      "File \u001b[0;32m/opt/conda/lib/python3.9/site-packages/tables/file.py:750\u001b[0m, in \u001b[0;36mFile.__init__\u001b[0;34m(self, filename, mode, title, root_uep, filters, **kwargs)\u001b[0m\n\u001b[1;32m    747\u001b[0m \u001b[38;5;28mself\u001b[39m\u001b[38;5;241m.\u001b[39mparams \u001b[38;5;241m=\u001b[39m params\n\u001b[1;32m    749\u001b[0m \u001b[38;5;66;03m# Now, it is time to initialize the File extension\u001b[39;00m\n\u001b[0;32m--> 750\u001b[0m \u001b[38;5;28;43mself\u001b[39;49m\u001b[38;5;241;43m.\u001b[39;49m\u001b[43m_g_new\u001b[49m\u001b[43m(\u001b[49m\u001b[43mfilename\u001b[49m\u001b[43m,\u001b[49m\u001b[43m \u001b[49m\u001b[43mmode\u001b[49m\u001b[43m,\u001b[49m\u001b[43m \u001b[49m\u001b[38;5;241;43m*\u001b[39;49m\u001b[38;5;241;43m*\u001b[39;49m\u001b[43mparams\u001b[49m\u001b[43m)\u001b[49m\n\u001b[1;32m    752\u001b[0m \u001b[38;5;66;03m# Check filters and set PyTables format version for new files.\u001b[39;00m\n\u001b[1;32m    753\u001b[0m new \u001b[38;5;241m=\u001b[39m \u001b[38;5;28mself\u001b[39m\u001b[38;5;241m.\u001b[39m_v_new\n",
      "File \u001b[0;32m/opt/conda/lib/python3.9/site-packages/tables/hdf5extension.pyx:486\u001b[0m, in \u001b[0;36mtables.hdf5extension.File._g_new\u001b[0;34m()\u001b[0m\n",
      "\u001b[0;31mHDF5ExtError\u001b[0m: HDF5 error back trace\n\n  File \"H5F.c\", line 620, in H5Fopen\n    unable to open file\n  File \"H5VLcallback.c\", line 3501, in H5VL_file_open\n    failed to iterate over available VOL connector plugins\n  File \"H5PLpath.c\", line 578, in H5PL__path_table_iterate\n    can't iterate over plugins in plugin path '(null)'\n  File \"H5PLpath.c\", line 620, in H5PL__path_table_iterate_process_path\n    can't open directory: /opt/conda/lib/hdf5/plugin\n  File \"H5VLcallback.c\", line 3351, in H5VL__file_open\n    open failed\n  File \"H5VLnative_file.c\", line 97, in H5VL__native_file_open\n    unable to open file\n  File \"H5Fint.c\", line 1990, in H5F_open\n    unable to read superblock\n  File \"H5Fsuper.c\", line 405, in H5F__super_read\n    file signature not found\n\nEnd of HDF5 error back trace\n\nUnable to open/create file './test.hdf'"
     ]
    }
   ],
   "source": [
    "test = pd.HDFStore('./test.hdf')"
   ]
  },
  {
   "cell_type": "code",
   "execution_count": 6,
   "id": "05005b37-f7fc-4071-8a64-c857325e9956",
   "metadata": {},
   "outputs": [],
   "source": [
    "with open('test', 'w') as f:\n",
    "    f.write('test')\n",
    "    "
   ]
  },
  {
   "cell_type": "code",
   "execution_count": 7,
   "id": "01db7fe8-339d-4e29-9233-9c7c315c08ab",
   "metadata": {},
   "outputs": [],
   "source": [
    "import h5py"
   ]
  },
  {
   "cell_type": "code",
   "execution_count": 9,
   "id": "7e687b09-2ea3-4425-aea0-32b6b2e8fa96",
   "metadata": {},
   "outputs": [
    {
     "ename": "OSError",
     "evalue": "Unable to open file (file signature not found)",
     "output_type": "error",
     "traceback": [
      "\u001b[0;31m---------------------------------------------------------------------------\u001b[0m",
      "\u001b[0;31mOSError\u001b[0m                                   Traceback (most recent call last)",
      "Input \u001b[0;32mIn [9]\u001b[0m, in \u001b[0;36m<cell line: 1>\u001b[0;34m()\u001b[0m\n\u001b[0;32m----> 1\u001b[0m \u001b[38;5;28;01mwith\u001b[39;00m \u001b[43mh5py\u001b[49m\u001b[38;5;241;43m.\u001b[39;49m\u001b[43mFile\u001b[49m\u001b[43m(\u001b[49m\u001b[38;5;124;43m'\u001b[39;49m\u001b[38;5;124;43mtest.hdf\u001b[39;49m\u001b[38;5;124;43m'\u001b[39;49m\u001b[43m,\u001b[49m\u001b[43m \u001b[49m\u001b[43mmode\u001b[49m\u001b[38;5;241;43m=\u001b[39;49m\u001b[38;5;124;43m'\u001b[39;49m\u001b[38;5;124;43mr\u001b[39;49m\u001b[38;5;124;43m'\u001b[39;49m\u001b[43m)\u001b[49m \u001b[38;5;28;01mas\u001b[39;00m f:\n\u001b[1;32m      2\u001b[0m     \u001b[38;5;28mprint\u001b[39m(f\u001b[38;5;241m.\u001b[39mkeys())\n",
      "File \u001b[0;32m/opt/conda/lib/python3.9/site-packages/h5py/_hl/files.py:507\u001b[0m, in \u001b[0;36mFile.__init__\u001b[0;34m(self, name, mode, driver, libver, userblock_size, swmr, rdcc_nslots, rdcc_nbytes, rdcc_w0, track_order, fs_strategy, fs_persist, fs_threshold, fs_page_size, page_buf_size, min_meta_keep, min_raw_keep, locking, **kwds)\u001b[0m\n\u001b[1;32m    502\u001b[0m     fapl \u001b[38;5;241m=\u001b[39m make_fapl(driver, libver, rdcc_nslots, rdcc_nbytes, rdcc_w0,\n\u001b[1;32m    503\u001b[0m                      locking, page_buf_size, min_meta_keep, min_raw_keep, \u001b[38;5;241m*\u001b[39m\u001b[38;5;241m*\u001b[39mkwds)\n\u001b[1;32m    504\u001b[0m     fcpl \u001b[38;5;241m=\u001b[39m make_fcpl(track_order\u001b[38;5;241m=\u001b[39mtrack_order, fs_strategy\u001b[38;5;241m=\u001b[39mfs_strategy,\n\u001b[1;32m    505\u001b[0m                      fs_persist\u001b[38;5;241m=\u001b[39mfs_persist, fs_threshold\u001b[38;5;241m=\u001b[39mfs_threshold,\n\u001b[1;32m    506\u001b[0m                      fs_page_size\u001b[38;5;241m=\u001b[39mfs_page_size)\n\u001b[0;32m--> 507\u001b[0m     fid \u001b[38;5;241m=\u001b[39m \u001b[43mmake_fid\u001b[49m\u001b[43m(\u001b[49m\u001b[43mname\u001b[49m\u001b[43m,\u001b[49m\u001b[43m \u001b[49m\u001b[43mmode\u001b[49m\u001b[43m,\u001b[49m\u001b[43m \u001b[49m\u001b[43muserblock_size\u001b[49m\u001b[43m,\u001b[49m\u001b[43m \u001b[49m\u001b[43mfapl\u001b[49m\u001b[43m,\u001b[49m\u001b[43m \u001b[49m\u001b[43mfcpl\u001b[49m\u001b[43m,\u001b[49m\u001b[43m \u001b[49m\u001b[43mswmr\u001b[49m\u001b[38;5;241;43m=\u001b[39;49m\u001b[43mswmr\u001b[49m\u001b[43m)\u001b[49m\n\u001b[1;32m    509\u001b[0m \u001b[38;5;28;01mif\u001b[39;00m \u001b[38;5;28misinstance\u001b[39m(libver, \u001b[38;5;28mtuple\u001b[39m):\n\u001b[1;32m    510\u001b[0m     \u001b[38;5;28mself\u001b[39m\u001b[38;5;241m.\u001b[39m_libver \u001b[38;5;241m=\u001b[39m libver\n",
      "File \u001b[0;32m/opt/conda/lib/python3.9/site-packages/h5py/_hl/files.py:220\u001b[0m, in \u001b[0;36mmake_fid\u001b[0;34m(name, mode, userblock_size, fapl, fcpl, swmr)\u001b[0m\n\u001b[1;32m    218\u001b[0m     \u001b[38;5;28;01mif\u001b[39;00m swmr \u001b[38;5;129;01mand\u001b[39;00m swmr_support:\n\u001b[1;32m    219\u001b[0m         flags \u001b[38;5;241m|\u001b[39m\u001b[38;5;241m=\u001b[39m h5f\u001b[38;5;241m.\u001b[39mACC_SWMR_READ\n\u001b[0;32m--> 220\u001b[0m     fid \u001b[38;5;241m=\u001b[39m \u001b[43mh5f\u001b[49m\u001b[38;5;241;43m.\u001b[39;49m\u001b[43mopen\u001b[49m\u001b[43m(\u001b[49m\u001b[43mname\u001b[49m\u001b[43m,\u001b[49m\u001b[43m \u001b[49m\u001b[43mflags\u001b[49m\u001b[43m,\u001b[49m\u001b[43m \u001b[49m\u001b[43mfapl\u001b[49m\u001b[38;5;241;43m=\u001b[39;49m\u001b[43mfapl\u001b[49m\u001b[43m)\u001b[49m\n\u001b[1;32m    221\u001b[0m \u001b[38;5;28;01melif\u001b[39;00m mode \u001b[38;5;241m==\u001b[39m \u001b[38;5;124m'\u001b[39m\u001b[38;5;124mr+\u001b[39m\u001b[38;5;124m'\u001b[39m:\n\u001b[1;32m    222\u001b[0m     fid \u001b[38;5;241m=\u001b[39m h5f\u001b[38;5;241m.\u001b[39mopen(name, h5f\u001b[38;5;241m.\u001b[39mACC_RDWR, fapl\u001b[38;5;241m=\u001b[39mfapl)\n",
      "File \u001b[0;32mh5py/_objects.pyx:54\u001b[0m, in \u001b[0;36mh5py._objects.with_phil.wrapper\u001b[0;34m()\u001b[0m\n",
      "File \u001b[0;32mh5py/_objects.pyx:55\u001b[0m, in \u001b[0;36mh5py._objects.with_phil.wrapper\u001b[0;34m()\u001b[0m\n",
      "File \u001b[0;32mh5py/h5f.pyx:106\u001b[0m, in \u001b[0;36mh5py.h5f.open\u001b[0;34m()\u001b[0m\n",
      "\u001b[0;31mOSError\u001b[0m: Unable to open file (file signature not found)"
     ]
    }
   ],
   "source": [
    "with h5py.File('test.hdf', mode='r') as f:\n",
    "    print(f.keys())"
   ]
  },
  {
   "cell_type": "code",
   "execution_count": 10,
   "id": "afdb493e-934a-406d-8284-1b7e46c7eb1b",
   "metadata": {},
   "outputs": [
    {
     "name": "stdout",
     "output_type": "stream",
     "text": [
      "b'\\x0e\\x03\\x13\\x01'\n"
     ]
    }
   ],
   "source": [
    "h=open('test.hdf', 'rb')\n",
    "bts = h.read(4)\n",
    "print(bts)"
   ]
  },
  {
   "cell_type": "code",
   "execution_count": 11,
   "id": "92c6531b-1c47-417e-afdc-4956c91a9ff6",
   "metadata": {},
   "outputs": [
    {
     "ename": "ModuleNotFoundError",
     "evalue": "No module named 'pyhdf'",
     "output_type": "error",
     "traceback": [
      "\u001b[0;31m---------------------------------------------------------------------------\u001b[0m",
      "\u001b[0;31mModuleNotFoundError\u001b[0m                       Traceback (most recent call last)",
      "Input \u001b[0;32mIn [11]\u001b[0m, in \u001b[0;36m<cell line: 1>\u001b[0;34m()\u001b[0m\n\u001b[0;32m----> 1\u001b[0m \u001b[38;5;28;01mfrom\u001b[39;00m \u001b[38;5;21;01mpyhdf\u001b[39;00m\u001b[38;5;21;01m.\u001b[39;00m\u001b[38;5;21;01mSD\u001b[39;00m \u001b[38;5;28;01mimport\u001b[39;00m SD, SDC\n",
      "\u001b[0;31mModuleNotFoundError\u001b[0m: No module named 'pyhdf'"
     ]
    }
   ],
   "source": [
    "from pyhdf.SD import SD, SDC"
   ]
  },
  {
   "cell_type": "code",
   "execution_count": 43,
   "id": "047fea0d-625b-4d61-9deb-f6089ba0a173",
   "metadata": {},
   "outputs": [
    {
     "ename": "ModuleNotFoundError",
     "evalue": "No module named 'pyhdf'",
     "output_type": "error",
     "traceback": [
      "\u001b[0;31m---------------------------------------------------------------------------\u001b[0m",
      "\u001b[0;31mModuleNotFoundError\u001b[0m                       Traceback (most recent call last)",
      "Input \u001b[0;32mIn [43]\u001b[0m, in \u001b[0;36m<cell line: 1>\u001b[0;34m()\u001b[0m\n\u001b[0;32m----> 1\u001b[0m \u001b[38;5;28;01mimport\u001b[39;00m \u001b[38;5;21;01mpyhdf\u001b[39;00m\n",
      "\u001b[0;31mModuleNotFoundError\u001b[0m: No module named 'pyhdf'"
     ]
    }
   ],
   "source": [
    "import pyhdf"
   ]
  },
  {
   "cell_type": "code",
   "execution_count": 44,
   "id": "be656092-1b65-4128-a6db-317b18490191",
   "metadata": {},
   "outputs": [],
   "source": [
    "from pyhdf.SD import SD,SDC"
   ]
  },
  {
   "cell_type": "code",
   "execution_count": 45,
   "id": "1b9b2d2c-9057-4cbc-a606-d5e7c57881c0",
   "metadata": {},
   "outputs": [],
   "source": [
    "hdf = SD('MOD11C3.A2000032.061.2020048181639 (1).hdf', SDC.READ)"
   ]
  },
  {
   "cell_type": "code",
   "execution_count": 46,
   "id": "a0cb93b9-cb93-45a6-afe7-192a4cb6a8f3",
   "metadata": {},
   "outputs": [
    {
     "data": {
      "text/plain": [
       "<pyhdf.SD.SD at 0x7f0fc474fd30>"
      ]
     },
     "execution_count": 46,
     "metadata": {},
     "output_type": "execute_result"
    }
   ],
   "source": [
    "hdf"
   ]
  },
  {
   "cell_type": "code",
   "execution_count": 47,
   "id": "d3360d0d-79cd-4eb1-b900-54798c3fd625",
   "metadata": {},
   "outputs": [
    {
     "name": "stdout",
     "output_type": "stream",
     "text": [
      "{'LST_Day_CMG': (('YDim:MODIS_MONTHLY_0.05DEG_CMG_LST', 'XDim:MODIS_MONTHLY_0.05DEG_CMG_LST'), (3600, 7200), 23, 0), 'QC_Day': (('YDim:MODIS_MONTHLY_0.05DEG_CMG_LST', 'XDim:MODIS_MONTHLY_0.05DEG_CMG_LST'), (3600, 7200), 21, 1), 'Day_view_time': (('YDim:MODIS_MONTHLY_0.05DEG_CMG_LST', 'XDim:MODIS_MONTHLY_0.05DEG_CMG_LST'), (3600, 7200), 21, 2), 'Day_view_angl': (('YDim:MODIS_MONTHLY_0.05DEG_CMG_LST', 'XDim:MODIS_MONTHLY_0.05DEG_CMG_LST'), (3600, 7200), 21, 3), 'Clear_sky_days': (('YDim:MODIS_MONTHLY_0.05DEG_CMG_LST', 'XDim:MODIS_MONTHLY_0.05DEG_CMG_LST'), (3600, 7200), 25, 4), 'LST_Night_CMG': (('YDim:MODIS_MONTHLY_0.05DEG_CMG_LST', 'XDim:MODIS_MONTHLY_0.05DEG_CMG_LST'), (3600, 7200), 23, 5), 'QC_Night': (('YDim:MODIS_MONTHLY_0.05DEG_CMG_LST', 'XDim:MODIS_MONTHLY_0.05DEG_CMG_LST'), (3600, 7200), 21, 6), 'Night_view_time': (('YDim:MODIS_MONTHLY_0.05DEG_CMG_LST', 'XDim:MODIS_MONTHLY_0.05DEG_CMG_LST'), (3600, 7200), 21, 7), 'Night_view_angl': (('YDim:MODIS_MONTHLY_0.05DEG_CMG_LST', 'XDim:MODIS_MONTHLY_0.05DEG_CMG_LST'), (3600, 7200), 21, 8), 'Clear_sky_nights': (('YDim:MODIS_MONTHLY_0.05DEG_CMG_LST', 'XDim:MODIS_MONTHLY_0.05DEG_CMG_LST'), (3600, 7200), 25, 9), 'Emis_20': (('YDim:MODIS_MONTHLY_0.05DEG_CMG_LST', 'XDim:MODIS_MONTHLY_0.05DEG_CMG_LST'), (3600, 7200), 21, 10), 'Emis_22': (('YDim:MODIS_MONTHLY_0.05DEG_CMG_LST', 'XDim:MODIS_MONTHLY_0.05DEG_CMG_LST'), (3600, 7200), 21, 11), 'Emis_23': (('YDim:MODIS_MONTHLY_0.05DEG_CMG_LST', 'XDim:MODIS_MONTHLY_0.05DEG_CMG_LST'), (3600, 7200), 21, 12), 'Emis_29': (('YDim:MODIS_MONTHLY_0.05DEG_CMG_LST', 'XDim:MODIS_MONTHLY_0.05DEG_CMG_LST'), (3600, 7200), 21, 13), 'Emis_31': (('YDim:MODIS_MONTHLY_0.05DEG_CMG_LST', 'XDim:MODIS_MONTHLY_0.05DEG_CMG_LST'), (3600, 7200), 21, 14), 'Emis_32': (('YDim:MODIS_MONTHLY_0.05DEG_CMG_LST', 'XDim:MODIS_MONTHLY_0.05DEG_CMG_LST'), (3600, 7200), 21, 15), 'Percent_land_in_grid': (('YDim:MODIS_MONTHLY_0.05DEG_CMG_LST', 'XDim:MODIS_MONTHLY_0.05DEG_CMG_LST'), (3600, 7200), 21, 16)}\n"
     ]
    }
   ],
   "source": [
    "print(hdf.datasets())"
   ]
  },
  {
   "cell_type": "code",
   "execution_count": 48,
   "id": "befcd2eb-68a1-4c78-a947-e17d2b373e60",
   "metadata": {},
   "outputs": [
    {
     "name": "stdout",
     "output_type": "stream",
     "text": [
      "LST_Day_CMG\n",
      "QC_Day\n",
      "Day_view_time\n",
      "Day_view_angl\n",
      "Clear_sky_days\n",
      "LST_Night_CMG\n",
      "QC_Night\n",
      "Night_view_time\n",
      "Night_view_angl\n",
      "Clear_sky_nights\n",
      "Emis_20\n",
      "Emis_22\n",
      "Emis_23\n",
      "Emis_29\n",
      "Emis_31\n",
      "Emis_32\n",
      "Percent_land_in_grid\n"
     ]
    }
   ],
   "source": [
    "for x in hdf.datasets():\n",
    "    print(x)"
   ]
  },
  {
   "cell_type": "code",
   "execution_count": 19,
   "id": "e6a2969c-8333-46ab-b159-2f2c3442e3e7",
   "metadata": {},
   "outputs": [
    {
     "name": "stdout",
     "output_type": "stream",
     "text": [
      "[[0 0 0 ... 0 0 0]\n",
      " [0 0 0 ... 0 0 0]\n",
      " [0 0 0 ... 0 0 0]\n",
      " ...\n",
      " [0 0 0 ... 0 0 0]\n",
      " [0 0 0 ... 0 0 0]\n",
      " [0 0 0 ... 0 0 0]]\n"
     ]
    }
   ],
   "source": [
    "time = hdf.select('LST_Day_CMG')\n",
    "time_data = time.get()\n",
    "print(time_data)"
   ]
  },
  {
   "cell_type": "code",
   "execution_count": 20,
   "id": "a3bd0966-1df2-45bc-a10b-47721a3709c7",
   "metadata": {},
   "outputs": [],
   "source": [
    "import pprint"
   ]
  },
  {
   "cell_type": "code",
   "execution_count": 21,
   "id": "59e67c54-9baf-45ce-a79a-146ee2098e01",
   "metadata": {},
   "outputs": [
    {
     "name": "stdout",
     "output_type": "stream",
     "text": [
      "{'LST': 'LST data * scale_factor',\n",
      " 'Number Type': 'uint16',\n",
      " '_FillValue': 0,\n",
      " 'add_offset': 0.0,\n",
      " 'add_offset_err': 0.0,\n",
      " 'calibrated_nt': 0,\n",
      " 'long_name': 'Monthly daytime 3min CMG Land-surface Temperature',\n",
      " 'scale_factor': 0.02,\n",
      " 'scale_factor_err': 0.0,\n",
      " 'units': 'K',\n",
      " 'valid_range': [7500, 65535]}\n"
     ]
    }
   ],
   "source": [
    "pprint.pprint(time.attributes())"
   ]
  },
  {
   "cell_type": "code",
   "execution_count": 40,
   "id": "b3f48358-8920-4029-abe2-26ca13806d88",
   "metadata": {},
   "outputs": [
    {
     "ename": "HDF5ExtError",
     "evalue": "HDF5 error back trace\n\n  File \"H5F.c\", line 620, in H5Fopen\n    unable to open file\n  File \"H5VLcallback.c\", line 3501, in H5VL_file_open\n    failed to iterate over available VOL connector plugins\n  File \"H5PLpath.c\", line 578, in H5PL__path_table_iterate\n    can't iterate over plugins in plugin path '(null)'\n  File \"H5PLpath.c\", line 620, in H5PL__path_table_iterate_process_path\n    can't open directory: /opt/conda/lib/hdf5/plugin\n  File \"H5VLcallback.c\", line 3351, in H5VL__file_open\n    open failed\n  File \"H5VLnative_file.c\", line 97, in H5VL__native_file_open\n    unable to open file\n  File \"H5Fint.c\", line 1990, in H5F_open\n    unable to read superblock\n  File \"H5Fsuper.c\", line 405, in H5F__super_read\n    file signature not found\n\nEnd of HDF5 error back trace\n\nUnable to open/create file 'test.hdf'",
     "output_type": "error",
     "traceback": [
      "\u001b[0;31m---------------------------------------------------------------------------\u001b[0m",
      "\u001b[0;31mHDF5ExtError\u001b[0m                              Traceback (most recent call last)",
      "Input \u001b[0;32mIn [40]\u001b[0m, in \u001b[0;36m<cell line: 1>\u001b[0;34m()\u001b[0m\n\u001b[0;32m----> 1\u001b[0m test \u001b[38;5;241m=\u001b[39m \u001b[43mpd\u001b[49m\u001b[38;5;241;43m.\u001b[39;49m\u001b[43mread_hdf\u001b[49m\u001b[43m(\u001b[49m\u001b[38;5;124;43m'\u001b[39;49m\u001b[38;5;124;43mtest.hdf\u001b[39;49m\u001b[38;5;124;43m'\u001b[39;49m\u001b[43m)\u001b[49m\n",
      "File \u001b[0;32m/opt/conda/lib/python3.9/site-packages/pandas/io/pytables.py:429\u001b[0m, in \u001b[0;36mread_hdf\u001b[0;34m(path_or_buf, key, mode, errors, where, start, stop, columns, iterator, chunksize, **kwargs)\u001b[0m\n\u001b[1;32m    426\u001b[0m \u001b[38;5;28;01mif\u001b[39;00m \u001b[38;5;129;01mnot\u001b[39;00m exists:\n\u001b[1;32m    427\u001b[0m     \u001b[38;5;28;01mraise\u001b[39;00m \u001b[38;5;167;01mFileNotFoundError\u001b[39;00m(\u001b[38;5;124mf\u001b[39m\u001b[38;5;124m\"\u001b[39m\u001b[38;5;124mFile \u001b[39m\u001b[38;5;132;01m{\u001b[39;00mpath_or_buf\u001b[38;5;132;01m}\u001b[39;00m\u001b[38;5;124m does not exist\u001b[39m\u001b[38;5;124m\"\u001b[39m)\n\u001b[0;32m--> 429\u001b[0m store \u001b[38;5;241m=\u001b[39m \u001b[43mHDFStore\u001b[49m\u001b[43m(\u001b[49m\u001b[43mpath_or_buf\u001b[49m\u001b[43m,\u001b[49m\u001b[43m \u001b[49m\u001b[43mmode\u001b[49m\u001b[38;5;241;43m=\u001b[39;49m\u001b[43mmode\u001b[49m\u001b[43m,\u001b[49m\u001b[43m \u001b[49m\u001b[43merrors\u001b[49m\u001b[38;5;241;43m=\u001b[39;49m\u001b[43merrors\u001b[49m\u001b[43m,\u001b[49m\u001b[43m \u001b[49m\u001b[38;5;241;43m*\u001b[39;49m\u001b[38;5;241;43m*\u001b[39;49m\u001b[43mkwargs\u001b[49m\u001b[43m)\u001b[49m\n\u001b[1;32m    430\u001b[0m \u001b[38;5;66;03m# can't auto open/close if we are using an iterator\u001b[39;00m\n\u001b[1;32m    431\u001b[0m \u001b[38;5;66;03m# so delegate to the iterator\u001b[39;00m\n\u001b[1;32m    432\u001b[0m auto_close \u001b[38;5;241m=\u001b[39m \u001b[38;5;28;01mTrue\u001b[39;00m\n",
      "File \u001b[0;32m/opt/conda/lib/python3.9/site-packages/pandas/io/pytables.py:591\u001b[0m, in \u001b[0;36mHDFStore.__init__\u001b[0;34m(self, path, mode, complevel, complib, fletcher32, **kwargs)\u001b[0m\n\u001b[1;32m    589\u001b[0m \u001b[38;5;28mself\u001b[39m\u001b[38;5;241m.\u001b[39m_fletcher32 \u001b[38;5;241m=\u001b[39m fletcher32\n\u001b[1;32m    590\u001b[0m \u001b[38;5;28mself\u001b[39m\u001b[38;5;241m.\u001b[39m_filters \u001b[38;5;241m=\u001b[39m \u001b[38;5;28;01mNone\u001b[39;00m\n\u001b[0;32m--> 591\u001b[0m \u001b[38;5;28;43mself\u001b[39;49m\u001b[38;5;241;43m.\u001b[39;49m\u001b[43mopen\u001b[49m\u001b[43m(\u001b[49m\u001b[43mmode\u001b[49m\u001b[38;5;241;43m=\u001b[39;49m\u001b[43mmode\u001b[49m\u001b[43m,\u001b[49m\u001b[43m \u001b[49m\u001b[38;5;241;43m*\u001b[39;49m\u001b[38;5;241;43m*\u001b[39;49m\u001b[43mkwargs\u001b[49m\u001b[43m)\u001b[49m\n",
      "File \u001b[0;32m/opt/conda/lib/python3.9/site-packages/pandas/io/pytables.py:740\u001b[0m, in \u001b[0;36mHDFStore.open\u001b[0;34m(self, mode, **kwargs)\u001b[0m\n\u001b[1;32m    734\u001b[0m     msg \u001b[38;5;241m=\u001b[39m (\n\u001b[1;32m    735\u001b[0m         \u001b[38;5;124m\"\u001b[39m\u001b[38;5;124mCannot open HDF5 file, which is already opened, \u001b[39m\u001b[38;5;124m\"\u001b[39m\n\u001b[1;32m    736\u001b[0m         \u001b[38;5;124m\"\u001b[39m\u001b[38;5;124meven in read-only mode.\u001b[39m\u001b[38;5;124m\"\u001b[39m\n\u001b[1;32m    737\u001b[0m     )\n\u001b[1;32m    738\u001b[0m     \u001b[38;5;28;01mraise\u001b[39;00m \u001b[38;5;167;01mValueError\u001b[39;00m(msg)\n\u001b[0;32m--> 740\u001b[0m \u001b[38;5;28mself\u001b[39m\u001b[38;5;241m.\u001b[39m_handle \u001b[38;5;241m=\u001b[39m \u001b[43mtables\u001b[49m\u001b[38;5;241;43m.\u001b[39;49m\u001b[43mopen_file\u001b[49m\u001b[43m(\u001b[49m\u001b[38;5;28;43mself\u001b[39;49m\u001b[38;5;241;43m.\u001b[39;49m\u001b[43m_path\u001b[49m\u001b[43m,\u001b[49m\u001b[43m \u001b[49m\u001b[38;5;28;43mself\u001b[39;49m\u001b[38;5;241;43m.\u001b[39;49m\u001b[43m_mode\u001b[49m\u001b[43m,\u001b[49m\u001b[43m \u001b[49m\u001b[38;5;241;43m*\u001b[39;49m\u001b[38;5;241;43m*\u001b[39;49m\u001b[43mkwargs\u001b[49m\u001b[43m)\u001b[49m\n",
      "File \u001b[0;32m/opt/conda/lib/python3.9/site-packages/tables/file.py:300\u001b[0m, in \u001b[0;36mopen_file\u001b[0;34m(filename, mode, title, root_uep, filters, **kwargs)\u001b[0m\n\u001b[1;32m    295\u001b[0m             \u001b[38;5;28;01mraise\u001b[39;00m \u001b[38;5;167;01mValueError\u001b[39;00m(\n\u001b[1;32m    296\u001b[0m                 \u001b[38;5;124m\"\u001b[39m\u001b[38;5;124mThe file \u001b[39m\u001b[38;5;124m'\u001b[39m\u001b[38;5;132;01m%s\u001b[39;00m\u001b[38;5;124m'\u001b[39m\u001b[38;5;124m is already opened.  Please \u001b[39m\u001b[38;5;124m\"\u001b[39m\n\u001b[1;32m    297\u001b[0m                 \u001b[38;5;124m\"\u001b[39m\u001b[38;5;124mclose it before reopening in write mode.\u001b[39m\u001b[38;5;124m\"\u001b[39m \u001b[38;5;241m%\u001b[39m filename)\n\u001b[1;32m    299\u001b[0m \u001b[38;5;66;03m# Finally, create the File instance, and return it\u001b[39;00m\n\u001b[0;32m--> 300\u001b[0m \u001b[38;5;28;01mreturn\u001b[39;00m \u001b[43mFile\u001b[49m\u001b[43m(\u001b[49m\u001b[43mfilename\u001b[49m\u001b[43m,\u001b[49m\u001b[43m \u001b[49m\u001b[43mmode\u001b[49m\u001b[43m,\u001b[49m\u001b[43m \u001b[49m\u001b[43mtitle\u001b[49m\u001b[43m,\u001b[49m\u001b[43m \u001b[49m\u001b[43mroot_uep\u001b[49m\u001b[43m,\u001b[49m\u001b[43m \u001b[49m\u001b[43mfilters\u001b[49m\u001b[43m,\u001b[49m\u001b[43m \u001b[49m\u001b[38;5;241;43m*\u001b[39;49m\u001b[38;5;241;43m*\u001b[39;49m\u001b[43mkwargs\u001b[49m\u001b[43m)\u001b[49m\n",
      "File \u001b[0;32m/opt/conda/lib/python3.9/site-packages/tables/file.py:750\u001b[0m, in \u001b[0;36mFile.__init__\u001b[0;34m(self, filename, mode, title, root_uep, filters, **kwargs)\u001b[0m\n\u001b[1;32m    747\u001b[0m \u001b[38;5;28mself\u001b[39m\u001b[38;5;241m.\u001b[39mparams \u001b[38;5;241m=\u001b[39m params\n\u001b[1;32m    749\u001b[0m \u001b[38;5;66;03m# Now, it is time to initialize the File extension\u001b[39;00m\n\u001b[0;32m--> 750\u001b[0m \u001b[38;5;28;43mself\u001b[39;49m\u001b[38;5;241;43m.\u001b[39;49m\u001b[43m_g_new\u001b[49m\u001b[43m(\u001b[49m\u001b[43mfilename\u001b[49m\u001b[43m,\u001b[49m\u001b[43m \u001b[49m\u001b[43mmode\u001b[49m\u001b[43m,\u001b[49m\u001b[43m \u001b[49m\u001b[38;5;241;43m*\u001b[39;49m\u001b[38;5;241;43m*\u001b[39;49m\u001b[43mparams\u001b[49m\u001b[43m)\u001b[49m\n\u001b[1;32m    752\u001b[0m \u001b[38;5;66;03m# Check filters and set PyTables format version for new files.\u001b[39;00m\n\u001b[1;32m    753\u001b[0m new \u001b[38;5;241m=\u001b[39m \u001b[38;5;28mself\u001b[39m\u001b[38;5;241m.\u001b[39m_v_new\n",
      "File \u001b[0;32m/opt/conda/lib/python3.9/site-packages/tables/hdf5extension.pyx:486\u001b[0m, in \u001b[0;36mtables.hdf5extension.File._g_new\u001b[0;34m()\u001b[0m\n",
      "\u001b[0;31mHDF5ExtError\u001b[0m: HDF5 error back trace\n\n  File \"H5F.c\", line 620, in H5Fopen\n    unable to open file\n  File \"H5VLcallback.c\", line 3501, in H5VL_file_open\n    failed to iterate over available VOL connector plugins\n  File \"H5PLpath.c\", line 578, in H5PL__path_table_iterate\n    can't iterate over plugins in plugin path '(null)'\n  File \"H5PLpath.c\", line 620, in H5PL__path_table_iterate_process_path\n    can't open directory: /opt/conda/lib/hdf5/plugin\n  File \"H5VLcallback.c\", line 3351, in H5VL__file_open\n    open failed\n  File \"H5VLnative_file.c\", line 97, in H5VL__native_file_open\n    unable to open file\n  File \"H5Fint.c\", line 1990, in H5F_open\n    unable to read superblock\n  File \"H5Fsuper.c\", line 405, in H5F__super_read\n    file signature not found\n\nEnd of HDF5 error back trace\n\nUnable to open/create file 'test.hdf'"
     ]
    }
   ],
   "source": [
    "test = pd.read_hdf('test.hdf')"
   ]
  },
  {
   "cell_type": "code",
   "execution_count": null,
   "id": "6a158b49-1af8-4cb9-a8b4-2af3815877f7",
   "metadata": {},
   "outputs": [],
   "source": []
  },
  {
   "cell_type": "code",
   "execution_count": null,
   "id": "920cd875-9821-4c2b-b6be-cf3d0a36a451",
   "metadata": {},
   "outputs": [],
   "source": []
  },
  {
   "cell_type": "code",
   "execution_count": null,
   "id": "4b07c6c3-15fd-4dbf-adff-8d9b33db984e",
   "metadata": {},
   "outputs": [],
   "source": []
  },
  {
   "cell_type": "code",
   "execution_count": 16,
   "id": "ad4c80b2-aa48-4d1e-93bb-12202415a11f",
   "metadata": {},
   "outputs": [],
   "source": [
    "import pandas as pd\n",
    "import numpy as np"
   ]
  },
  {
   "cell_type": "code",
   "execution_count": 5,
   "id": "264789fb-f0ec-4ef4-a6eb-4688c55fb5f9",
   "metadata": {},
   "outputs": [],
   "source": [
    "lineitem = pd.read_parquet('data/lineitem.parquet')\n",
    "part = pd.read_parquet('data/part.parquet')\n",
    "left = lineitem"
   ]
  },
  {
   "cell_type": "code",
   "execution_count": 9,
   "id": "9d7153a7-f49b-4fa4-b911-786fece8758e",
   "metadata": {},
   "outputs": [],
   "source": [
    "right = part[(part[\"P_BRAND\"] == \"Brand#23\") & (part[\"P_CONTAINER\"] == \"MED BOX\")]"
   ]
  },
  {
   "cell_type": "code",
   "execution_count": 10,
   "id": "c6a0b64c-b87f-4d1c-a758-cbde2224fb5e",
   "metadata": {},
   "outputs": [],
   "source": [
    "j1 = left.merge(right.rename(columns={\"P_PARTKEY\":\"L_PARTKEY\"}),how='inner', on=\"L_PARTKEY\")"
   ]
  },
  {
   "cell_type": "code",
   "execution_count": 22,
   "id": "9a8f044b-4e44-4e74-94e1-78e852ed29f9",
   "metadata": {},
   "outputs": [],
   "source": [
    "lineitem_avg = lineitem.groupby(by=[\"L_PARTKEY\"]).agg(avg=(\"L_QUANTITY\",np.mean))\n",
    "lineitem_avg[\"avg\"] = lineitem_avg[\"avg\"]*.2"
   ]
  },
  {
   "cell_type": "code",
   "execution_count": 25,
   "id": "98b594f3-63f7-443f-af21-9e357dddcec8",
   "metadata": {},
   "outputs": [],
   "source": [
    "total = lineitem_avg.merge(j1, how='inner', on=\"L_PARTKEY\")\n",
    "total = total[total[\"L_QUANTITY\"] < total[\"avg\"]]"
   ]
  },
  {
   "cell_type": "code",
   "execution_count": 39,
   "id": "578da97b-ce2a-4376-a3dc-d83769cf6a7e",
   "metadata": {},
   "outputs": [
    {
     "data": {
      "text/plain": [
       "23512.752857142856"
      ]
     },
     "execution_count": 39,
     "metadata": {},
     "output_type": "execute_result"
    }
   ],
   "source": [
    "total[\"L_EXTENDEDPRICE\"].sum()/7."
   ]
  },
  {
   "cell_type": "code",
   "execution_count": null,
   "id": "5795d9e3-737a-415b-9d51-cef75722baa3",
   "metadata": {},
   "outputs": [],
   "source": []
  },
  {
   "cell_type": "code",
   "execution_count": null,
   "id": "cc78defd-445d-40d9-85fd-3241371a356e",
   "metadata": {},
   "outputs": [],
   "source": []
  },
  {
   "cell_type": "code",
   "execution_count": null,
   "id": "9fb936c8-6eec-4f88-a176-78bd40463b66",
   "metadata": {},
   "outputs": [],
   "source": []
  },
  {
   "cell_type": "code",
   "execution_count": null,
   "id": "3826aa54-dc10-4d91-a7c6-b3a4ad8f2ec2",
   "metadata": {},
   "outputs": [],
   "source": []
  },
  {
   "cell_type": "code",
   "execution_count": null,
   "id": "e5598900-7efc-4a44-9238-ae30b3ee94c5",
   "metadata": {},
   "outputs": [],
   "source": []
  },
  {
   "cell_type": "code",
   "execution_count": null,
   "id": "b85d23c5-acaf-4b39-9222-dad2e812e967",
   "metadata": {},
   "outputs": [],
   "source": []
  },
  {
   "cell_type": "code",
   "execution_count": 50,
   "id": "c51ace93-5e64-4a40-97c0-e0c718d08e7c",
   "metadata": {},
   "outputs": [],
   "source": [
    "import os\n",
    "import re\n",
    "import matplotlib as mpl\n",
    "import matplotlib.pyplot as plt\n",
    "import numpy as np\n",
    "from pyhdf.SD import SD, SDC\n",
    "from mpl_toolkits.basemap import Basemap"
   ]
  },
  {
   "cell_type": "code",
   "execution_count": 54,
   "id": "ee200910-4c74-4550-badc-fbe2ab4a8f99",
   "metadata": {},
   "outputs": [],
   "source": [
    "hdf = SD('MOD13C2.A2000032.006.2015147122546.hdf', SDC.READ)"
   ]
  },
  {
   "cell_type": "code",
   "execution_count": 53,
   "id": "4e113edf-4f4e-40e0-9442-b502f3427391",
   "metadata": {},
   "outputs": [
    {
     "name": "stdout",
     "output_type": "stream",
     "text": [
      "LST_Day_CMG\n",
      "QC_Day\n",
      "Day_view_time\n",
      "Day_view_angl\n",
      "Clear_sky_days\n",
      "LST_Night_CMG\n",
      "QC_Night\n",
      "Night_view_time\n",
      "Night_view_angl\n",
      "Clear_sky_nights\n",
      "Emis_20\n",
      "Emis_22\n",
      "Emis_23\n",
      "Emis_29\n",
      "Emis_31\n",
      "Emis_32\n",
      "Percent_land_in_grid\n"
     ]
    }
   ],
   "source": [
    "for x in hdf.datasets():\n",
    "    print(x)"
   ]
  },
  {
   "cell_type": "code",
   "execution_count": 56,
   "id": "b1dd1d18-0d09-4a6e-99e0-346f0d1b7c61",
   "metadata": {},
   "outputs": [],
   "source": [
    "data2d = hdf.select(\"CMG 0.05 Deg Monthly NDVI\")\n",
    "data = data2d[:,:].astype(np.double)"
   ]
  },
  {
   "cell_type": "code",
   "execution_count": 66,
   "id": "0573331b-cc45-4c62-8702-c107edc64dfc",
   "metadata": {},
   "outputs": [
    {
     "data": {
      "text/plain": [
       "{'long_name': ('CMG 0.05 Deg Monthly NDVI', 0, 4, 25),\n",
       " 'units': ('NDVI', 1, 4, 4),\n",
       " 'valid_range': ([-2000, 10000], 2, 22, 2),\n",
       " '_FillValue': (-3000, 3, 22, 1),\n",
       " 'scale_factor': (10000.0, 4, 6, 1),\n",
       " 'scale_factor_err': (0.0, 5, 6, 1),\n",
       " 'add_offset': (0.0, 6, 6, 1),\n",
       " 'add_offset_err': (0.0, 7, 6, 1),\n",
       " 'calibrated_nt': (5, 8, 24, 1)}"
      ]
     },
     "execution_count": 66,
     "metadata": {},
     "output_type": "execute_result"
    }
   ],
   "source": [
    "attrs"
   ]
  },
  {
   "cell_type": "code",
   "execution_count": 57,
   "id": "bd8bfd8f-7f36-42bb-9d09-b57619328344",
   "metadata": {},
   "outputs": [],
   "source": [
    "attrs = data2d.attributes(full=1)\n",
    "lna=attrs[\"long_name\"]\n",
    "long_name = lna[0]\n",
    "vra=attrs[\"valid_range\"]\n",
    "valid_range = vra[0]\n",
    "aoa=attrs[\"add_offset\"]\n",
    "add_offset=aoa[0]\n",
    "fva=attrs[\"_FillValue\"]\n",
    "_FillValue=fva[0]\n",
    "sfa=attrs[\"scale_factor\"]\n",
    "scale_factor = sfa[0]\n",
    "ua=attrs[\"units\"]\n",
    "units=ua[0]"
   ]
  },
  {
   "cell_type": "code",
   "execution_count": 59,
   "id": "60681634-d6a7-41c3-954e-116a051970c0",
   "metadata": {},
   "outputs": [],
   "source": [
    "invalid = data == _FillValue\n",
    "invalid = np.logical_or(invalid, data < valid_range[0])\n",
    "invalid = np.logical_or(invalid, data > valid_range[1])\n",
    "data[invalid] = np.nan"
   ]
  },
  {
   "cell_type": "code",
   "execution_count": 60,
   "id": "41e0273b-2373-41cf-a0f0-08b1b39c9c75",
   "metadata": {},
   "outputs": [],
   "source": [
    "data = (data-add_offset) / scale_factor\n",
    "data = np.ma.masked_array(data, np.isnan(data))"
   ]
  },
  {
   "cell_type": "code",
   "execution_count": 61,
   "id": "29c3a5a6-57bc-4677-be8b-9703303f75ec",
   "metadata": {},
   "outputs": [],
   "source": [
    "x = np.linspace(-180, 180, 720)\n",
    "y = np.linspace(90, -90, 360)\n",
    "lon, lat = np.meshgrid(x,y)"
   ]
  },
  {
   "cell_type": "code",
   "execution_count": 69,
   "id": "e54b8347-bb29-4a12-8e89-c862a5742171",
   "metadata": {},
   "outputs": [
    {
     "name": "stdout",
     "output_type": "stream",
     "text": [
      "[[-- -- -- ... -- -- --]\n",
      " [-- -- -- ... -- -- --]\n",
      " [-- -- -- ... -- -- --]\n",
      " ...\n",
      " [-- -- -- ... -- -- --]\n",
      " [-- -- -- ... -- -- --]\n",
      " [-- -- -- ... -- -- --]]\n"
     ]
    }
   ],
   "source": [
    "print(data)"
   ]
  },
  {
   "cell_type": "code",
   "execution_count": 64,
   "id": "693ded1b-c8a7-4253-a793-f913accc36e1",
   "metadata": {},
   "outputs": [],
   "source": [
    "m = Basemap(projection='cyl', resolution='l', llcrnrlat=-90, urcrnrlat=90, llcrnrlon=-180, urcrnrlon=180)"
   ]
  },
  {
   "cell_type": "code",
   "execution_count": 65,
   "id": "f737d9a1-9d65-4f5b-91df-5e1eea6537f9",
   "metadata": {},
   "outputs": [
    {
     "data": {
      "image/png": "[encoded data removed]",
      "text/plain": [
       "<Figure size 432x288 with 2 Axes>"
      ]
     },
     "metadata": {
      "needs_background": "light"
     },
     "output_type": "display_data"
    }
   ],
   "source": [
    "m.drawcoastlines(linewidth=.5)\n",
    "m.drawparallels(np.arange(-90,90,45), labels=[1,0,0,0])\n",
    "m.drawmeridians(np.arange(-180,181,45), labels=[0,0,0,1])\n",
    "m.pcolormesh(lon, lat, data[::10, ::10])\n",
    "cb = m.colorbar()\n",
    "cb.set_label(units)"
   ]
  },
  {
   "cell_type": "code",
   "execution_count": null,
   "id": "ca48ba04-0a44-4997-addf-f654eba1f2f1",
   "metadata": {},
   "outputs": [],
   "source": []
  }
 ],
 "metadata": {
  "kernelspec": {
   "display_name": "Python 3 (ipykernel)",
   "language": "python",
   "name": "python3"
  },
  "language_info": {
   "codemirror_mode": {
    "name": "ipython",
    "version": 3
   },
   "file_extension": ".py",
   "mimetype": "text/x-python",
   "name": "python",
   "nbconvert_exporter": "python",
   "pygments_lexer": "ipython3",
   "version": "3.9.10"
  }
 },
 "nbformat": 4,
 "nbformat_minor": 5
}
